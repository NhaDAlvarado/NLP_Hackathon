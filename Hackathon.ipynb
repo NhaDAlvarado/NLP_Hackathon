{
  "nbformat": 4,
  "nbformat_minor": 0,
  "metadata": {
    "colab": {
      "provenance": [],
      "machine_shape": "hm",
      "gpuType": "T4"
    },
    "kernelspec": {
      "name": "python3",
      "display_name": "Python 3"
    },
    "language_info": {
      "name": "python"
    },
    "accelerator": "GPU"
  },
  "cells": [
    {
      "cell_type": "markdown",
      "source": [
        "**Prompts**\n",
        "\n",
        "• List major Food insecurity reason in 2023\n",
        "\n",
        "• Explain malnutrition in war zones\n",
        "\n",
        "• Explain increase prices impact on food security"
      ],
      "metadata": {
        "id": "vTyW5_Ryrtee"
      }
    },
    {
      "cell_type": "markdown",
      "source": [
        "**Install necessery packages**"
      ],
      "metadata": {
        "id": "G42qM_QhVqxn"
      }
    },
    {
      "cell_type": "code",
      "source": [
        "!pip install pymupdf\n",
        "!pip install pdfplumber transformers\n",
        "!pip install sentence-transformers\n"
      ],
      "metadata": {
        "id": "55nmg-7PBoRy"
      },
      "execution_count": null,
      "outputs": []
    },
    {
      "cell_type": "markdown",
      "source": [
        "**1. Import libraries**"
      ],
      "metadata": {
        "id": "ApZl-0r1NSXG"
      }
    },
    {
      "cell_type": "code",
      "source": [
        "import fitz  # PyMuPDF\n",
        "import pdfplumber\n",
        "from google.colab import drive\n",
        "import re\n"
      ],
      "metadata": {
        "id": "ELLEGWHDI2KG"
      },
      "execution_count": null,
      "outputs": []
    },
    {
      "cell_type": "markdown",
      "source": [
        "**2. Extract text from PDF**"
      ],
      "metadata": {
        "id": "PPJSv5dWNIap"
      }
    },
    {
      "cell_type": "code",
      "source": [
        "drive.mount('/content/drive')\n",
        "\n",
        "def extract_text_from_pdf(pdf_path):\n",
        "    text = \"\"\n",
        "    with pdfplumber.open(pdf_path) as pdf:\n",
        "        for page in pdf.pages:\n",
        "            text += page.extract_text()\n",
        "    return text\n",
        "\n",
        "# Open the PDF file\n",
        "pdf_path = '/content/drive/My Drive/Colab Notebooks/SOFI-2023.pdf'\n",
        "pdf_text = extract_text_from_pdf(pdf_path)"
      ],
      "metadata": {
        "colab": {
          "base_uri": "https://localhost:8080/"
        },
        "id": "9t9oV3Z9NPgq",
        "outputId": "4b0b3c55-dd11-4947-e4e9-90d22e8463c7"
      },
      "execution_count": null,
      "outputs": [
        {
          "output_type": "stream",
          "name": "stdout",
          "text": [
            "Drive already mounted at /content/drive; to attempt to forcibly remount, call drive.mount(\"/content/drive\", force_remount=True).\n"
          ]
        }
      ]
    },
    {
      "cell_type": "markdown",
      "source": [
        "**3. Text processing**"
      ],
      "metadata": {
        "id": "GQOEZz3WNtlA"
      }
    },
    {
      "cell_type": "code",
      "source": [
        "def clean_text(text):\n",
        "    # Basic text cleaning\n",
        "    text = re.sub(r'\\s+', ' ', text)  # Remove extra spaces\n",
        "    return text\n",
        "\n",
        "cleaned_text = clean_text(pdf_text)"
      ],
      "metadata": {
        "id": "RpXa497LNt4I"
      },
      "execution_count": null,
      "outputs": []
    },
    {
      "cell_type": "markdown",
      "source": [
        "**4. Integrate a Language Model**"
      ],
      "metadata": {
        "id": "-eYgQ2dqOCFu"
      }
    },
    {
      "cell_type": "code",
      "source": [
        "from transformers import GPTNeoForCausalLM, GPT2Tokenizer\n",
        "\n",
        "# Initialize the model and tokenizer\n",
        "model_name = \"EleutherAI/gpt-neo-2.7B\"\n",
        "tokenizer = GPT2Tokenizer.from_pretrained(model_name)\n",
        "model = GPTNeoForCausalLM.from_pretrained(model_name)\n",
        "\n",
        "# Since GPT models do not have padding by default and we are not batching, we avoid setting a pad token\n",
        "def generate_response(prompt, max_new_tokens=100):\n",
        "    # Encode the prompt to tokens and check input length\n",
        "    input_ids = tokenizer(prompt, return_tensors=\"pt\").input_ids\n",
        "    max_length = tokenizer.model_max_length\n",
        "\n",
        "    # Generate response\n",
        "    if input_ids.shape[1] < max_length:\n",
        "        outputs = model.generate(input_ids, max_length=max_length, max_new_tokens=max_new_tokens, num_return_sequences=1)\n",
        "    else:\n",
        "        outputs = model.generate(input_ids[:, :max_length], max_length=max_length, max_new_tokens=max_new_tokens, num_return_sequences=1)\n",
        "\n",
        "    return tokenizer.decode(outputs[0], skip_special_tokens=True)\n",
        "\n",
        "# Prompts based on your specific questions\n",
        "prompts = [\n",
        "    \"List major Food insecurity reasons in 2023\",\n",
        "    \"Explain malnutrition in war zones\",\n",
        "    \"Explain how increasing prices impact food security\"\n",
        "]\n",
        "\n",
        "# Generating responses for each prompt\n",
        "responses = {prompt: generate_response(prompt) for prompt in prompts}\n",
        "\n",
        "# Printing the responses\n",
        "for prompt, response in responses.items():\n",
        "    print(f\"Prompt: {prompt}\\nResponse: {response}\\n\")\n",
        "\n"
      ],
      "metadata": {
        "colab": {
          "base_uri": "https://localhost:8080/"
        },
        "id": "is6-wZD-OCVw",
        "outputId": "6cb50306-79a8-46a8-e0d0-bee0dff738a5"
      },
      "execution_count": null,
      "outputs": [
        {
          "output_type": "stream",
          "name": "stderr",
          "text": [
            "/usr/local/lib/python3.10/dist-packages/huggingface_hub/utils/_token.py:88: UserWarning: \n",
            "The secret `HF_TOKEN` does not exist in your Colab secrets.\n",
            "To authenticate with the Hugging Face Hub, create a token in your settings tab (https://huggingface.co/settings/tokens), set it as secret in your Google Colab and restart your session.\n",
            "You will be able to reuse this secret in all of your notebooks.\n",
            "Please note that authentication is recommended but still optional to access public models or datasets.\n",
            "  warnings.warn(\n",
            "The attention mask and the pad token id were not set. As a consequence, you may observe unexpected behavior. Please pass your input's `attention_mask` to obtain reliable results.\n",
            "Setting `pad_token_id` to `eos_token_id`:50256 for open-end generation.\n",
            "Both `max_new_tokens` (=100) and `max_length`(=2048) seem to have been set. `max_new_tokens` will take precedence. Please refer to the documentation for more information. (https://huggingface.co/docs/transformers/main/en/main_classes/text_generation)\n",
            "The attention mask and the pad token id were not set. As a consequence, you may observe unexpected behavior. Please pass your input's `attention_mask` to obtain reliable results.\n",
            "Setting `pad_token_id` to `eos_token_id`:50256 for open-end generation.\n",
            "Both `max_new_tokens` (=100) and `max_length`(=2048) seem to have been set. `max_new_tokens` will take precedence. Please refer to the documentation for more information. (https://huggingface.co/docs/transformers/main/en/main_classes/text_generation)\n",
            "The attention mask and the pad token id were not set. As a consequence, you may observe unexpected behavior. Please pass your input's `attention_mask` to obtain reliable results.\n",
            "Setting `pad_token_id` to `eos_token_id`:50256 for open-end generation.\n",
            "Both `max_new_tokens` (=100) and `max_length`(=2048) seem to have been set. `max_new_tokens` will take precedence. Please refer to the documentation for more information. (https://huggingface.co/docs/transformers/main/en/main_classes/text_generation)\n"
          ]
        },
        {
          "output_type": "stream",
          "name": "stdout",
          "text": [
            "Prompt: List major Food insecurity reasons in 2023\n",
            "Response: List major Food insecurity reasons in 2023\n",
            "\n",
            "The UK government has published its latest food security report, which shows that the number of people in the UK who are food insecure has risen to 1.6 million.\n",
            "\n",
            "The report, which was published on Monday, shows that the number of people in the UK who are food insecure has risen to 1.6 million.\n",
            "\n",
            "The report, which was published on Monday, shows that the number of people in the UK who are food insecure has risen to 1.6 million.\n",
            "\n",
            "\n",
            "Prompt: Explain malnutrition in war zones\n",
            "Response: Explain malnutrition in war zones\n",
            "\n",
            "The United Nations has declared that the world is facing a “global emergency” over the lack of food and water in war zones.\n",
            "\n",
            "The UN’s Food and Agriculture Organization (FAO) has warned that the world is facing a “global emergency” over the lack of food and water in war zones.\n",
            "\n",
            "The UN’s Food and Agriculture Organization (FAO) has warned that the world is facing a “global emergency” over\n",
            "\n",
            "Prompt: Explain how increasing prices impact food security\n",
            "Response: Explain how increasing prices impact food security\n",
            "\n",
            "The price of food is a major factor in determining the amount of food available to people in a country. This is especially true in developing countries where the cost of food is often the main barrier to food security.\n",
            "\n",
            "In this article, we will look at the impact of increasing prices on food security.\n",
            "\n",
            "What is food security?\n",
            "\n",
            "Food security is the ability of a country to meet the nutritional needs of its population. It is a measure of the availability of food in a\n",
            "\n"
          ]
        }
      ]
    },
    {
      "cell_type": "markdown",
      "source": [
        "**5. Enhance Retrieval System**"
      ],
      "metadata": {
        "id": "HtGBQRvZOb-O"
      }
    },
    {
      "cell_type": "code",
      "source": [
        "from sentence_transformers import SentenceTransformer, util\n",
        "\n",
        "# Initialize the model\n",
        "model = SentenceTransformer('all-MiniLM-L6-v2')\n",
        "\n",
        "# Define sections based on thematic analysis of the PDF\n",
        "sections = [\n",
        "    \"Detailed analysis on food insecurity reasons in 2023, including climate change impacts, economic factors, and geopolitical tensions.\",\n",
        "    \"Comprehensive review on malnutrition challenges in war zones, focusing on accessibility, supply chains disruptions, and humanitarian aid effectiveness.\",\n",
        "    \"Discussion on how increasing prices are impacting food security globally, with a focus on price volatility, income disparities, and government policy responses.\"\n",
        "]\n",
        "\n",
        "# Encode the sections to create embeddings\n",
        "embeddings = model.encode(sections)\n",
        "\n",
        "def retrieve_relevant_section(query):\n",
        "    # Encode the query to create its embedding\n",
        "    query_embedding = model.encode(query)\n",
        "    # Calculate cosine similarities between the query and all section embeddings\n",
        "    scores = util.cos_sim(query_embedding, embeddings)\n",
        "    # Find the index of the section with the highest similarity score\n",
        "    top_idx = scores.argmax()\n",
        "    # Return the most relevant section\n",
        "    return sections[top_idx]\n",
        "\n",
        "# Queries aligned with the specified prompts\n",
        "queries = [\n",
        "    \"List major Food insecurity reasons in 2023\",\n",
        "    \"Explain malnutrition in war zones\",\n",
        "    \"Explain how increasing prices impact food security\"\n",
        "]\n",
        "\n",
        "# Retrieve and print relevant sections for each query\n",
        "for query in queries:\n",
        "    relevant_section = retrieve_relevant_section(query)\n",
        "    print(f\"Query: {query}\\nRelevant Section: {relevant_section}\\n\")\n",
        "\n"
      ],
      "metadata": {
        "id": "Ox06KzecOcNv"
      },
      "execution_count": null,
      "outputs": []
    },
    {
      "cell_type": "code",
      "source": [],
      "metadata": {
        "id": "SvRWh1s5OotW"
      },
      "execution_count": null,
      "outputs": []
    }
  ]
}